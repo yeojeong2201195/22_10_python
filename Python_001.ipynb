{
  "nbformat": 4,
  "nbformat_minor": 0,
  "metadata": {
    "colab": {
      "provenance": [],
      "authorship_tag": "ABX9TyOJNusRalhFLKyAVonjYQZz",
      "include_colab_link": true
    },
    "kernelspec": {
      "name": "python3",
      "display_name": "Python 3"
    },
    "language_info": {
      "name": "python"
    }
  },
  "cells": [
    {
      "cell_type": "markdown",
      "metadata": {
        "id": "view-in-github",
        "colab_type": "text"
      },
      "source": [
        "<a href=\"https://colab.research.google.com/github/yeojeong2201195/22_10_python/blob/main/Python_001.ipynb\" target=\"_parent\"><img src=\"https://colab.research.google.com/assets/colab-badge.svg\" alt=\"Open In Colab\"/></a>"
      ]
    },
    {
      "cell_type": "markdown",
      "source": [
        "코랩과 깃헙의 첫번째 연결을 진행합니다."
      ],
      "metadata": {
        "id": "jPZ2InonlieY"
      }
    },
    {
      "cell_type": "code",
      "source": [
        "print(\"hello Github\")\n",
        "print(\"Hello python\")\n",
        "print (\"안녕하세요?\")\n",
        "print(\"programming에 입문하신 것을 축하드립니다\")"
      ],
      "metadata": {
        "colab": {
          "base_uri": "https://localhost:8080/"
        },
        "id": "eUj66KP4m2Ku",
        "outputId": "58cff5d6-9aff-4227-cf84-9b1e7875b00b"
      },
      "execution_count": 4,
      "outputs": [
        {
          "output_type": "stream",
          "name": "stdout",
          "text": [
            "hello Github\n",
            "Hello python\n",
            "안녕하세요?\n",
            "programming에 입문하신 것을 축하드립니다\n"
          ]
        }
      ]
    }
  ]
}